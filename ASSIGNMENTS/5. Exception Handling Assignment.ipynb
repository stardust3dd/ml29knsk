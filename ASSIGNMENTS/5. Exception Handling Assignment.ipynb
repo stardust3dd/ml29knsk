{
 "cells": [
  {
   "cell_type": "markdown",
   "metadata": {},
   "source": [
    "# Assignment 1\n",
    "- 1. Write a function to compute 5/0 and use try/except to catch the exceptions."
   ]
  },
  {
   "cell_type": "code",
   "execution_count": 8,
   "metadata": {},
   "outputs": [
    {
     "name": "stdin",
     "output_type": "stream",
     "text": [
      "Enter the dividend:  5\n",
      "Enter the divisor:  0\n"
     ]
    },
    {
     "name": "stdout",
     "output_type": "stream",
     "text": [
      "ERROR: Divisor cannot be zero!\n"
     ]
    }
   ],
   "source": [
    "def divide():\n",
    "    a= input('Enter the dividend: ')\n",
    "    b= input('Enter the divisor: ')\n",
    "    q= float(a)/float(b)\n",
    "    print(f'The quotient is: {q}')\n",
    "    \n",
    "try:\n",
    "    divide()\n",
    "except ZeroDivisionError:\n",
    "    print('ERROR: Divisor cannot be zero!')\n",
    "except:\n",
    "    print('ERROR: Something else went wrong!')"
   ]
  },
  {
   "cell_type": "markdown",
   "metadata": {},
   "source": [
    "# Assignment 2\n",
    "- 2. Implement a Python program to generate all sentences where \n",
    "    - subject is in [\"Americans\", \"Indians\"] \n",
    "    - verb is in [\"Play\", \"watch\"] \n",
    "    - the object is in [\"Baseball\",\"cricket\"].\n",
    "    \n",
    "- Hint: Subject,Verb and Object should be declared in the program as shown below:\n",
    "    - subjects=[\"Americans \",\"Indians\"]\n",
    "    - verbs=[\"play\",\"watch\"]\n",
    "    - objects=[\"Baseball\",\"Cricket\"]\n",
    "    \n",
    "- Output should come as below:\n",
    "    - Americans play Baseball.\n",
    "    - Americans play Cricket.\n",
    "    - Americans watch Baseball.\n",
    "    - Americans watch Cricket.\n",
    "    - Indians play Baseball.\n",
    "    - Indians play Cricket.\n",
    "    - Indians watch Baseball.\n",
    "    - Indians watch Cricket."
   ]
  },
  {
   "cell_type": "code",
   "execution_count": 11,
   "metadata": {},
   "outputs": [
    {
     "name": "stdout",
     "output_type": "stream",
     "text": [
      "Americans  play Baseball.\n",
      "Americans  play Cricket.\n",
      "Americans  watch Baseball.\n",
      "Americans  watch Cricket.\n",
      "Indians play Baseball.\n",
      "Indians play Cricket.\n",
      "Indians watch Baseball.\n",
      "Indians watch Cricket.\n"
     ]
    }
   ],
   "source": [
    "subjects=[\"Americans \",\"Indians\"]\n",
    "verbs=[\"play\",\"watch\"]\n",
    "objects=[\"Baseball\",\"Cricket\"]\n",
    "\n",
    "sentences= [f'{s} {v} {o}.' for s in subjects for v in verbs for o in objects]\n",
    "for s in sentences:\n",
    "    print(s)"
   ]
  }
 ],
 "metadata": {
  "kernelspec": {
   "display_name": "Python",
   "language": "python",
   "name": "conda-env-python-py"
  },
  "language_info": {
   "codemirror_mode": {
    "name": "ipython",
    "version": 3
   },
   "file_extension": ".py",
   "mimetype": "text/x-python",
   "name": "python",
   "nbconvert_exporter": "python",
   "pygments_lexer": "ipython3",
   "version": "3.6.11"
  }
 },
 "nbformat": 4,
 "nbformat_minor": 4
}
