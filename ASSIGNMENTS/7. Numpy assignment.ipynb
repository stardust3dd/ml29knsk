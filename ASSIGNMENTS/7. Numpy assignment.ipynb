{
 "cells": [
  {
   "cell_type": "markdown",
   "metadata": {},
   "source": [
    "# Assignment 1\n",
    "\n",
    "- Write a function so that the columns of the output matrix are powers of the input vector. The order of the powers is determined by the increasing boolean argument. Specifically, when increasing is False, the i-th output column is the input vector raised element-wise to the power of N - i - 1.\n",
    "\n",
    "- HINT: Such a matrix with a geometric progression in each row is named for Alexandre-Theophile Vandermonde."
   ]
  },
  {
   "cell_type": "code",
   "execution_count": 12,
   "metadata": {},
   "outputs": [
    {
     "name": "stdin",
     "output_type": "stream",
     "text": [
      "Enter the input vector (num1, num2, num3...):  1,2,3,4,5\n",
      "Enter the number of columns:  7\n",
      "Should the powers increase? Y/N:  Y\n"
     ]
    },
    {
     "name": "stdout",
     "output_type": "stream",
     "text": [
      "[[    1     1     1     1     1     1     1]\n",
      " [    1     2     4     8    16    32    64]\n",
      " [    1     3     9    27    81   243   729]\n",
      " [    1     4    16    64   256  1024  4096]\n",
      " [    1     5    25   125   625  3125 15625]]\n"
     ]
    }
   ],
   "source": [
    "import numpy as np\n",
    "\n",
    "def ATV_matrix(vector, cols, inc):\n",
    "    vector= vector.split(',')\n",
    "    vector= np.array([int(i) for i in vector])\n",
    "    if inc.upper()=='N':\n",
    "        atv= np.array([i**(cols-col-1) for i in vector for col in range(cols)]).reshape(vector.size, cols)\n",
    "    else:\n",
    "        atv= np.array([i**col for i in vector for col in range(cols)]).reshape(vector.size, cols)\n",
    "    print(atv)\n",
    "    \n",
    "vector= input('Enter the input vector (num1, num2, num3...): ')\n",
    "cols= int(input('Enter the number of columns: '))\n",
    "inc= str(input('Should the powers increase? Y/N: '))\n",
    "\n",
    "ATV_matrix(vector, cols, inc)"
   ]
  },
  {
   "cell_type": "markdown",
   "metadata": {},
   "source": [
    "# Assignment 2\n",
    "- Given a sequence of n values x1, x2, ..., xn and a window size k>0, the k-th moving average of the given sequence is defined as follows:\n",
    "    - The moving average sequence has n-k+1 elements as shown below.\n",
    "    - The moving averages with k=4 of a ten-value sequence (n=10) is shown below\n",
    "        - i 1 2 3 4 5 6 7 8 9 10\n",
    "        - ===== == == == == == == == == == ==\n",
    "        - Input 10 20 30 40 50 60 70 80 90 100\n",
    "        - y1 25 = (10+20+30+40)/4\n",
    "        - y2 35 = (20+30+40+50)/4\n",
    "        - y3 45 = (30+40+50+60)/4\n",
    "        - y4 55 = (40+50+60+70)/4\n",
    "        - y5 65 = (50+60+70+80)/4\n",
    "        - y6 75 = (60+70+80+90)/4\n",
    "        - y7 85 = (70+80+90+100)/4\n",
    "    - Thus, the moving average sequence has n-k+1=10-4+1=7 values\n",
    "    \n",
    "\n",
    "- Question: Write a function to find moving average in an array over a window: Test it over [3, 5, 7, 2, 8, 10, 11, 65, 72, 81, 99, 100, 150] and window of 3."
   ]
  },
  {
   "cell_type": "code",
   "execution_count": 24,
   "metadata": {},
   "outputs": [
    {
     "name": "stdin",
     "output_type": "stream",
     "text": [
      "Enter the input vector (num1, num2, num3...):  3, 5, 7, 2, 8, 10, 11, 65, 72, 81, 99, 100, 150\n",
      "Enter the window size:  3\n"
     ]
    },
    {
     "name": "stdout",
     "output_type": "stream",
     "text": [
      "[  1.     2.67   5.     4.67   5.67   6.67   9.67  28.67  49.33  72.67\n",
      "  84.    93.33 116.33]\n"
     ]
    }
   ],
   "source": [
    "def moving_avg(vector, window):\n",
    "    vector= vector.split(',')\n",
    "    vector= np.array([int(i) for i in vector])\n",
    "    vec_sum= np.cumsum(vector)    \n",
    "    vec_sum[window:]= vec_sum[window:]-vec_sum[:-window]   \n",
    "    print(np.round_(vec_sum/window, decimals = 2))\n",
    "    \n",
    "vector= input('Enter the input vector (num1, num2, num3...): ')\n",
    "window= int(input('Enter the window size: '))\n",
    "\n",
    "moving_avg(vector, window)"
   ]
  }
 ],
 "metadata": {
  "kernelspec": {
   "display_name": "Python",
   "language": "python",
   "name": "conda-env-python-py"
  },
  "language_info": {
   "codemirror_mode": {
    "name": "ipython",
    "version": 3
   },
   "file_extension": ".py",
   "mimetype": "text/x-python",
   "name": "python",
   "nbconvert_exporter": "python",
   "pygments_lexer": "ipython3",
   "version": "3.6.11"
  }
 },
 "nbformat": 4,
 "nbformat_minor": 4
}
