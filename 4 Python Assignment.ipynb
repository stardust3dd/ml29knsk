{
 "cells": [
  {
   "cell_type": "markdown",
   "metadata": {},
   "source": [
    "# Assignment 1\n",
    "- 1.1 Write a Python Program(with class concepts) to find the area of the triangle using the below formula: area = (s*(s-a)*(s-b)*(s-c)) ** 0.5\n",
    "    - Function to take the length of the sides of triangle from user should be defined in the parent\n",
    "    - class and function to calculate the area should be defined in subclass."
   ]
  },
  {
   "cell_type": "code",
   "execution_count": 11,
   "metadata": {},
   "outputs": [
    {
     "name": "stdin",
     "output_type": "stream",
     "text": [
      "Enter the length of first side:  5\n",
      "Enter the length of second side:  5\n",
      "Enter the length of third side:  5\n"
     ]
    },
    {
     "name": "stdout",
     "output_type": "stream",
     "text": [
      "Lengths of triangle sides taken from user in parent class: 5.0, 5.0 & 5.0\n",
      "Lengths of triangle sides inherited in subclass: 5.0, 5.0 & 5.0\n",
      "Area calculated in subclass: 10.825317547305483\n"
     ]
    }
   ],
   "source": [
    "class Triangle:\n",
    "    def __init__(self):\n",
    "        self.a= float(input('Enter the length of first side: '))\n",
    "        self.b= float(input('Enter the length of second side: '))\n",
    "        self.c= float(input('Enter the length of third side: '))\n",
    "        print(f'Lengths of triangle sides taken from user in parent class: {self.a}, {self.b} & {self.c}')\n",
    "    \n",
    "class Triangle_Area(Triangle):\n",
    "    def __init__(self):\n",
    "        Triangle.__init__(self)\n",
    "        print(f'Lengths of triangle sides inherited in subclass: {self.a}, {self.b} & {self.c}')            \n",
    "    def get_area(self):\n",
    "        s= (self.a + self.b + self.c)/2\n",
    "        res= (s*(s-self.a)*(s-self.b)*(s-self.c))**0.5\n",
    "        print(f'Area calculated in subclass: {res}')\n",
    "        \n",
    "t1= Triangle_Area()\n",
    "t1.get_area()"
   ]
  },
  {
   "cell_type": "markdown",
   "metadata": {},
   "source": [
    "# Assignment 2\n",
    "- 1.2 Write a function filter_long_words() that takes a list of words and an integer n and returns the list of words that are longer than n."
   ]
  },
  {
   "cell_type": "code",
   "execution_count": 24,
   "metadata": {},
   "outputs": [
    {
     "data": {
      "text/plain": [
       "['quick', 'brown', 'jumps', 'over', 'lazy', 'dog.']"
      ]
     },
     "execution_count": 24,
     "metadata": {},
     "output_type": "execute_result"
    }
   ],
   "source": [
    "def filter_long_words(l, n):\n",
    "    return list(filter(lambda x: len(x)>n, l))\n",
    "\n",
    "test_case= ['The quick brown fox jumps over the lazy dog.']\n",
    "test_case= test_case[0].split()\n",
    "filter_long_words(test_case, 3)"
   ]
  },
  {
   "cell_type": "markdown",
   "metadata": {},
   "source": [
    "# Assignment 3\n",
    "- 2.1 Write a Python program using function concept that maps list of words into a list of integers representing the lengths of the corresponding words.\n",
    "    - Hint: If a list [ ab,cde,erty] is passed on to the python function output should come as [2,3,4]\n",
    "    - Here 2,3 and 4 are the lengths of the words in the list."
   ]
  },
  {
   "cell_type": "code",
   "execution_count": 23,
   "metadata": {},
   "outputs": [
    {
     "data": {
      "text/plain": [
       "[3, 5, 5, 3, 5, 4, 3, 4, 4]"
      ]
     },
     "execution_count": 23,
     "metadata": {},
     "output_type": "execute_result"
    }
   ],
   "source": [
    "def word_len(l):\n",
    "    return list(map(lambda x: len(x), l))\n",
    "    \n",
    "test_case= ['The quick brown fox jumps over the lazy dog.']\n",
    "test_case= test_case[0].split()\n",
    "word_len(test_case)"
   ]
  },
  {
   "cell_type": "markdown",
   "metadata": {},
   "source": [
    "# Assignment 4\n",
    "- 2.2 Write a Python function which takes a character (i.e. a string of length 1) and returns True if it is a vowel, False otherwise."
   ]
  },
  {
   "cell_type": "code",
   "execution_count": 12,
   "metadata": {},
   "outputs": [
    {
     "name": "stdout",
     "output_type": "stream",
     "text": [
      "False\n",
      "False\n",
      "True\n",
      "False\n",
      "False\n",
      "False\n",
      "True\n",
      "True\n",
      "True\n",
      "False\n"
     ]
    }
   ],
   "source": [
    "def my_vowel_check(c):\n",
    "    if c in ['a', 'e', 'i', 'o', 'u']:\n",
    "        return True\n",
    "    return False\n",
    "\n",
    "# testing\n",
    "test_case= ['q','w','e','r','t','y','u','i','o','p']\n",
    "for i in test_case:\n",
    "    print(my_vowel_check(i))"
   ]
  },
  {
   "cell_type": "code",
   "execution_count": null,
   "metadata": {},
   "outputs": [],
   "source": []
  }
 ],
 "metadata": {
  "kernelspec": {
   "display_name": "Python",
   "language": "python",
   "name": "conda-env-python-py"
  },
  "language_info": {
   "codemirror_mode": {
    "name": "ipython",
    "version": 3
   },
   "file_extension": ".py",
   "mimetype": "text/x-python",
   "name": "python",
   "nbconvert_exporter": "python",
   "pygments_lexer": "ipython3",
   "version": "3.6.11"
  }
 },
 "nbformat": 4,
 "nbformat_minor": 4
}
